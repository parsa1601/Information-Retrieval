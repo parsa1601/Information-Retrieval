{
  "nbformat": 4,
  "nbformat_minor": 0,
  "metadata": {
    "colab": {
      "provenance": []
    },
    "kernelspec": {
      "name": "python3",
      "display_name": "Python 3"
    },
    "language_info": {
      "name": "python"
    }
  },
  "cells": [
    {
      "cell_type": "markdown",
      "metadata": {
        "id": "-sEP512qw-Oc"
      },
      "source": [
        "# Information Retrieval\n",
        "## Assignment 8\n",
        "\n",
        "Team members:\n",
        "\n",
        "1:\n",
        "Amir Hesari\n",
        "2:\n",
        "MohammadParsa EtemadHeravi \n",
        "3:\n",
        "Ali Adelkhah\n",
        "4:\n",
        "Reza Firouzi"
      ]
    },
    {
      "cell_type": "markdown",
      "metadata": {
        "id": "l_0YYxVMxfbm"
      },
      "source": [
        "Installing necessary libraries"
      ]
    },
    {
      "cell_type": "code",
      "execution_count": 1,
      "metadata": {
        "colab": {
          "base_uri": "https://localhost:8080/"
        },
        "id": "2xTdtVjsw9QL",
        "outputId": "3206a830-da44-4060-c8d8-9ebd96f4f7f0"
      },
      "outputs": [
        {
          "output_type": "stream",
          "name": "stdout",
          "text": [
            "Looking in indexes: https://pypi.org/simple, https://us-python.pkg.dev/colab-wheels/public/simple/\n",
            "Collecting hazm\n",
            "  Downloading hazm-0.7.0-py3-none-any.whl (316 kB)\n",
            "\u001b[2K     \u001b[90m━━━━━━━━━━━━━━━━━━━━━━━━━━━━━━━━━━━━━━\u001b[0m \u001b[32m316.7/316.7 kB\u001b[0m \u001b[31m14.7 MB/s\u001b[0m eta \u001b[36m0:00:00\u001b[0m\n",
            "\u001b[?25hCollecting nltk==3.3\n",
            "  Downloading nltk-3.3.0.zip (1.4 MB)\n",
            "\u001b[2K     \u001b[90m━━━━━━━━━━━━━━━━━━━━━━━━━━━━━━━━━━━━━━━━\u001b[0m \u001b[32m1.4/1.4 MB\u001b[0m \u001b[31m30.1 MB/s\u001b[0m eta \u001b[36m0:00:00\u001b[0m\n",
            "\u001b[?25h  Preparing metadata (setup.py) ... \u001b[?25l\u001b[?25hdone\n",
            "Collecting libwapiti>=0.2.1\n",
            "  Downloading libwapiti-0.2.1.tar.gz (233 kB)\n",
            "\u001b[2K     \u001b[90m━━━━━━━━━━━━━━━━━━━━━━━━━━━━━━━━━━━━━━\u001b[0m \u001b[32m233.6/233.6 kB\u001b[0m \u001b[31m12.9 MB/s\u001b[0m eta \u001b[36m0:00:00\u001b[0m\n",
            "\u001b[?25h  Preparing metadata (setup.py) ... \u001b[?25l\u001b[?25hdone\n",
            "Requirement already satisfied: six in /usr/local/lib/python3.9/dist-packages (from nltk==3.3->hazm) (1.16.0)\n",
            "Building wheels for collected packages: nltk, libwapiti\n",
            "  Building wheel for nltk (setup.py) ... \u001b[?25l\u001b[?25hdone\n",
            "  Created wheel for nltk: filename=nltk-3.3-py3-none-any.whl size=1394488 sha256=ca3ba6a11d73fcbfa7347f88bcc960561a6b664b4b44b8a1fd23c52b323b565b\n",
            "  Stored in directory: /root/.cache/pip/wheels/ac/62/f6/88933dadcd64a1614894614aa68cf57c4b8e5256acb650b1f1\n",
            "  Building wheel for libwapiti (setup.py) ... \u001b[?25l\u001b[?25hdone\n",
            "  Created wheel for libwapiti: filename=libwapiti-0.2.1-cp39-cp39-linux_x86_64.whl size=180330 sha256=f36efc6aa2b6e07c2a189a7fe538fc74b5db59c6eaf770d75ace93ac7411a24d\n",
            "  Stored in directory: /root/.cache/pip/wheels/8e/ff/82/9326b96f96f47472e02c453697b225813e4650c0ed4df2cd49\n",
            "Successfully built nltk libwapiti\n",
            "Installing collected packages: nltk, libwapiti, hazm\n",
            "  Attempting uninstall: nltk\n",
            "    Found existing installation: nltk 3.8.1\n",
            "    Uninstalling nltk-3.8.1:\n",
            "      Successfully uninstalled nltk-3.8.1\n",
            "Successfully installed hazm-0.7.0 libwapiti-0.2.1 nltk-3.3\n"
          ]
        }
      ],
      "source": [
        "!pip install hazm"
      ]
    },
    {
      "cell_type": "markdown",
      "metadata": {
        "id": "9qobVyuNxnXN"
      },
      "source": [
        "Import libraries"
      ]
    },
    {
      "cell_type": "code",
      "execution_count": 12,
      "metadata": {
        "id": "tYk-QZW0xoPT"
      },
      "outputs": [],
      "source": [
        "import hazm\n",
        "import nltk\n",
        "import pandas as pd"
      ]
    },
    {
      "cell_type": "code",
      "execution_count": 3,
      "metadata": {
        "colab": {
          "base_uri": "https://localhost:8080/"
        },
        "id": "dYMh9Mxoxseb",
        "outputId": "abd4f01e-766e-4403-d8cd-54c977ab4a8f"
      },
      "outputs": [
        {
          "output_type": "stream",
          "name": "stdout",
          "text": [
            "--2023-04-27 10:27:02--  https://github.com/mohamad-dehghani/persian-pdf-books-dataset/raw/master/final_books.xlsx\n",
            "Resolving github.com (github.com)... 140.82.113.3\n",
            "Connecting to github.com (github.com)|140.82.113.3|:443... connected.\n",
            "HTTP request sent, awaiting response... 302 Found\n",
            "Location: https://raw.githubusercontent.com/mohamad-dehghani/persian-pdf-books-dataset/master/final_books.xlsx [following]\n",
            "--2023-04-27 10:27:02--  https://raw.githubusercontent.com/mohamad-dehghani/persian-pdf-books-dataset/master/final_books.xlsx\n",
            "Resolving raw.githubusercontent.com (raw.githubusercontent.com)... 185.199.108.133, 185.199.109.133, 185.199.110.133, ...\n",
            "Connecting to raw.githubusercontent.com (raw.githubusercontent.com)|185.199.108.133|:443... connected.\n",
            "HTTP request sent, awaiting response... 200 OK\n",
            "Length: 1380625 (1.3M) [application/octet-stream]\n",
            "Saving to: ‘final_books.xlsx’\n",
            "\n",
            "final_books.xlsx    100%[===================>]   1.32M  --.-KB/s    in 0.008s  \n",
            "\n",
            "2023-04-27 10:27:02 (168 MB/s) - ‘final_books.xlsx’ saved [1380625/1380625]\n",
            "\n"
          ]
        }
      ],
      "source": [
        "!wget https://github.com/mohamad-dehghani/persian-pdf-books-dataset/raw/master/final_books.xlsx"
      ]
    },
    {
      "cell_type": "code",
      "execution_count": 4,
      "metadata": {
        "colab": {
          "base_uri": "https://localhost:8080/"
        },
        "id": "htMXRa4Rx_Xl",
        "outputId": "2f5ac48d-c48e-44d5-c67c-36a4be74a1c2"
      },
      "outputs": [
        {
          "output_type": "stream",
          "name": "stdout",
          "text": [
            "<class 'pandas.core.frame.DataFrame'>\n",
            "RangeIndex: 2824 entries, 0 to 2823\n",
            "Data columns (total 6 columns):\n",
            " #   Column    Non-Null Count  Dtype \n",
            "---  ------    --------------  ----- \n",
            " 0   title     2824 non-null   object\n",
            " 1   date      2824 non-null   object\n",
            " 2   content   2441 non-null   object\n",
            " 3   category  2824 non-null   object\n",
            " 4   author    2824 non-null   object\n",
            " 5   comments  2824 non-null   object\n",
            "dtypes: object(6)\n",
            "memory usage: 132.5+ KB\n"
          ]
        }
      ],
      "source": [
        "df_persian = pd.read_excel('/content/final_books.xlsx')\n",
        "df_persian.info()"
      ]
    },
    {
      "cell_type": "code",
      "execution_count": 5,
      "metadata": {
        "colab": {
          "base_uri": "https://localhost:8080/",
          "height": 70
        },
        "id": "OLEDkypZ2bBn",
        "outputId": "4424016d-8db8-446d-8be5-20ef5a7d8da9"
      },
      "outputs": [
        {
          "output_type": "execute_result",
          "data": {
            "text/plain": [
              "' تی دی جیکس یک کشیش، نویسنده، سخنران آمریکایی است. سمینار های تی دی جیکس اغلب انگیزشی و مذهبی است به همین دلیل او در ایران به سخنران انگیزشی سیاه پوست لقب گرفته است. در زندگینامه تی دی جیکس شاهد فعالیت\\u200cهای مختلفی هستیم که هر کدام از آنها، خواهان تجربه و تلاش زیادی هستند. مواردی که اعلام شد تنها بخشی از فعالیت\\u200cهای جیکس است. او هم اکنون کشیش خانه پاتر است و مخاطبان بسیاری دارد. موعظه\\u200cهای\\xa0 و سخنرانی\\u200cها تی دی جیکس در کلیسا از شبکه\\u200cهای تلویزیونی و رادیویی مختلف پخش می\\u200cشوند. این کتاب گزیده ای از سخنرانی های آقای جیکز ، یکی از بهترین سخنران های انگیزشی در دنیا است. امید است با مطالعه دقیق و باور عمیق تغییری مثبت در زندگیتان ایجاد شود'"
            ],
            "application/vnd.google.colaboratory.intrinsic+json": {
              "type": "string"
            }
          },
          "metadata": {},
          "execution_count": 5
        }
      ],
      "source": [
        "df_persian = df_persian.replace(pd.NA, \"null\")\n",
        "df_persian['content'] = df_persian['content'].astype(\"string\")\n",
        "df_persian['content'][0]"
      ]
    },
    {
      "cell_type": "code",
      "execution_count": 6,
      "metadata": {
        "colab": {
          "base_uri": "https://localhost:8080/"
        },
        "id": "OTXAOPUZ7JJn",
        "outputId": "e0893589-bdd8-4257-dc03-20c621b4a17e"
      },
      "outputs": [
        {
          "output_type": "stream",
          "name": "stdout",
          "text": [
            "--2023-04-27 10:27:03--  http://www.cs.cmu.edu/~ark/personas/data/MovieSummaries.tar.gz\n",
            "Resolving www.cs.cmu.edu (www.cs.cmu.edu)... 128.2.42.95\n",
            "Connecting to www.cs.cmu.edu (www.cs.cmu.edu)|128.2.42.95|:80... connected.\n",
            "HTTP request sent, awaiting response... 200 OK\n",
            "Length: 48002242 (46M) [application/x-gzip]\n",
            "Saving to: ‘MovieSummaries.tar.gz’\n",
            "\n",
            "MovieSummaries.tar. 100%[===================>]  45.78M  6.03MB/s    in 7.8s    \n",
            "\n",
            "2023-04-27 10:27:11 (5.86 MB/s) - ‘MovieSummaries.tar.gz’ saved [48002242/48002242]\n",
            "\n"
          ]
        }
      ],
      "source": [
        "\n",
        "\n",
        "!wget http://www.cs.cmu.edu/~ark/personas/data/MovieSummaries.tar.gz\n",
        "!tar -xf MovieSummaries.tar.gz\n",
        "     \n"
      ]
    },
    {
      "cell_type": "code",
      "execution_count": 7,
      "metadata": {
        "colab": {
          "base_uri": "https://localhost:8080/"
        },
        "id": "yz8xaaYf9tQ4",
        "outputId": "46927d62-33cf-443b-db0d-bb723c82af11"
      },
      "outputs": [
        {
          "output_type": "stream",
          "name": "stdout",
          "text": [
            "<class 'pandas.core.frame.DataFrame'>\n",
            "RangeIndex: 42303 entries, 0 to 42302\n",
            "Data columns (total 2 columns):\n",
            " #   Column  Non-Null Count  Dtype \n",
            "---  ------  --------------  ----- \n",
            " 0   id      42303 non-null  int64 \n",
            " 1   text    42303 non-null  object\n",
            "dtypes: int64(1), object(1)\n",
            "memory usage: 661.1+ KB\n"
          ]
        }
      ],
      "source": [
        "df_english = pd.read_csv(\"/content/MovieSummaries/plot_summaries.txt\", delimiter = \"\\t\",names=[\"id\",\"text\"])\n",
        "df_english.info()"
      ]
    },
    {
      "cell_type": "code",
      "source": [
        "from nltk import *\n",
        "from hazm import *\n",
        "\n",
        "normalizer = Normalizer()\n",
        "normalized_english = []\n",
        "for d in df_english['text']:\n",
        "  txt = normalizer.normalize(d)\n",
        "  normalized_english.append(re.sub('[^A-Za-z0-9]+', ' ' , txt))"
      ],
      "metadata": {
        "id": "mp24XJFHGAcu"
      },
      "execution_count": 17,
      "outputs": []
    },
    {
      "cell_type": "code",
      "source": [
        "print(df_english.info())\n",
        "df_english.head()"
      ],
      "metadata": {
        "colab": {
          "base_uri": "https://localhost:8080/",
          "height": 379
        },
        "id": "n6D8RZILCUEs",
        "outputId": "8a850566-7634-4187-fbd3-b1ad2e4ffeb1"
      },
      "execution_count": 18,
      "outputs": [
        {
          "output_type": "stream",
          "name": "stdout",
          "text": [
            "<class 'pandas.core.frame.DataFrame'>\n",
            "RangeIndex: 42303 entries, 0 to 42302\n",
            "Data columns (total 2 columns):\n",
            " #   Column  Non-Null Count  Dtype \n",
            "---  ------  --------------  ----- \n",
            " 0   id      42303 non-null  int64 \n",
            " 1   text    42303 non-null  object\n",
            "dtypes: int64(1), object(1)\n",
            "memory usage: 661.1+ KB\n",
            "None\n"
          ]
        },
        {
          "output_type": "execute_result",
          "data": {
            "text/plain": [
              "         id                                               text\n",
              "0  23890098  Shlykov, a hard-working taxi driver and Lyosha...\n",
              "1  31186339  The nation of Panem consists of a wealthy Capi...\n",
              "2  20663735  Poovalli Induchoodan  is sentenced for six yea...\n",
              "3   2231378  The Lemon Drop Kid , a New York City swindler,...\n",
              "4    595909  Seventh-day Adventist Church pastor Michael Ch..."
            ],
            "text/html": [
              "\n",
              "  <div id=\"df-75e34a95-b7c2-45ef-84bc-706c597deb12\">\n",
              "    <div class=\"colab-df-container\">\n",
              "      <div>\n",
              "<style scoped>\n",
              "    .dataframe tbody tr th:only-of-type {\n",
              "        vertical-align: middle;\n",
              "    }\n",
              "\n",
              "    .dataframe tbody tr th {\n",
              "        vertical-align: top;\n",
              "    }\n",
              "\n",
              "    .dataframe thead th {\n",
              "        text-align: right;\n",
              "    }\n",
              "</style>\n",
              "<table border=\"1\" class=\"dataframe\">\n",
              "  <thead>\n",
              "    <tr style=\"text-align: right;\">\n",
              "      <th></th>\n",
              "      <th>id</th>\n",
              "      <th>text</th>\n",
              "    </tr>\n",
              "  </thead>\n",
              "  <tbody>\n",
              "    <tr>\n",
              "      <th>0</th>\n",
              "      <td>23890098</td>\n",
              "      <td>Shlykov, a hard-working taxi driver and Lyosha...</td>\n",
              "    </tr>\n",
              "    <tr>\n",
              "      <th>1</th>\n",
              "      <td>31186339</td>\n",
              "      <td>The nation of Panem consists of a wealthy Capi...</td>\n",
              "    </tr>\n",
              "    <tr>\n",
              "      <th>2</th>\n",
              "      <td>20663735</td>\n",
              "      <td>Poovalli Induchoodan  is sentenced for six yea...</td>\n",
              "    </tr>\n",
              "    <tr>\n",
              "      <th>3</th>\n",
              "      <td>2231378</td>\n",
              "      <td>The Lemon Drop Kid , a New York City swindler,...</td>\n",
              "    </tr>\n",
              "    <tr>\n",
              "      <th>4</th>\n",
              "      <td>595909</td>\n",
              "      <td>Seventh-day Adventist Church pastor Michael Ch...</td>\n",
              "    </tr>\n",
              "  </tbody>\n",
              "</table>\n",
              "</div>\n",
              "      <button class=\"colab-df-convert\" onclick=\"convertToInteractive('df-75e34a95-b7c2-45ef-84bc-706c597deb12')\"\n",
              "              title=\"Convert this dataframe to an interactive table.\"\n",
              "              style=\"display:none;\">\n",
              "        \n",
              "  <svg xmlns=\"http://www.w3.org/2000/svg\" height=\"24px\"viewBox=\"0 0 24 24\"\n",
              "       width=\"24px\">\n",
              "    <path d=\"M0 0h24v24H0V0z\" fill=\"none\"/>\n",
              "    <path d=\"M18.56 5.44l.94 2.06.94-2.06 2.06-.94-2.06-.94-.94-2.06-.94 2.06-2.06.94zm-11 1L8.5 8.5l.94-2.06 2.06-.94-2.06-.94L8.5 2.5l-.94 2.06-2.06.94zm10 10l.94 2.06.94-2.06 2.06-.94-2.06-.94-.94-2.06-.94 2.06-2.06.94z\"/><path d=\"M17.41 7.96l-1.37-1.37c-.4-.4-.92-.59-1.43-.59-.52 0-1.04.2-1.43.59L10.3 9.45l-7.72 7.72c-.78.78-.78 2.05 0 2.83L4 21.41c.39.39.9.59 1.41.59.51 0 1.02-.2 1.41-.59l7.78-7.78 2.81-2.81c.8-.78.8-2.07 0-2.86zM5.41 20L4 18.59l7.72-7.72 1.47 1.35L5.41 20z\"/>\n",
              "  </svg>\n",
              "      </button>\n",
              "      \n",
              "  <style>\n",
              "    .colab-df-container {\n",
              "      display:flex;\n",
              "      flex-wrap:wrap;\n",
              "      gap: 12px;\n",
              "    }\n",
              "\n",
              "    .colab-df-convert {\n",
              "      background-color: #E8F0FE;\n",
              "      border: none;\n",
              "      border-radius: 50%;\n",
              "      cursor: pointer;\n",
              "      display: none;\n",
              "      fill: #1967D2;\n",
              "      height: 32px;\n",
              "      padding: 0 0 0 0;\n",
              "      width: 32px;\n",
              "    }\n",
              "\n",
              "    .colab-df-convert:hover {\n",
              "      background-color: #E2EBFA;\n",
              "      box-shadow: 0px 1px 2px rgba(60, 64, 67, 0.3), 0px 1px 3px 1px rgba(60, 64, 67, 0.15);\n",
              "      fill: #174EA6;\n",
              "    }\n",
              "\n",
              "    [theme=dark] .colab-df-convert {\n",
              "      background-color: #3B4455;\n",
              "      fill: #D2E3FC;\n",
              "    }\n",
              "\n",
              "    [theme=dark] .colab-df-convert:hover {\n",
              "      background-color: #434B5C;\n",
              "      box-shadow: 0px 1px 3px 1px rgba(0, 0, 0, 0.15);\n",
              "      filter: drop-shadow(0px 1px 2px rgba(0, 0, 0, 0.3));\n",
              "      fill: #FFFFFF;\n",
              "    }\n",
              "  </style>\n",
              "\n",
              "      <script>\n",
              "        const buttonEl =\n",
              "          document.querySelector('#df-75e34a95-b7c2-45ef-84bc-706c597deb12 button.colab-df-convert');\n",
              "        buttonEl.style.display =\n",
              "          google.colab.kernel.accessAllowed ? 'block' : 'none';\n",
              "\n",
              "        async function convertToInteractive(key) {\n",
              "          const element = document.querySelector('#df-75e34a95-b7c2-45ef-84bc-706c597deb12');\n",
              "          const dataTable =\n",
              "            await google.colab.kernel.invokeFunction('convertToInteractive',\n",
              "                                                     [key], {});\n",
              "          if (!dataTable) return;\n",
              "\n",
              "          const docLinkHtml = 'Like what you see? Visit the ' +\n",
              "            '<a target=\"_blank\" href=https://colab.research.google.com/notebooks/data_table.ipynb>data table notebook</a>'\n",
              "            + ' to learn more about interactive tables.';\n",
              "          element.innerHTML = '';\n",
              "          dataTable['output_type'] = 'display_data';\n",
              "          await google.colab.output.renderOutput(dataTable, element);\n",
              "          const docLink = document.createElement('div');\n",
              "          docLink.innerHTML = docLinkHtml;\n",
              "          element.appendChild(docLink);\n",
              "        }\n",
              "      </script>\n",
              "    </div>\n",
              "  </div>\n",
              "  "
            ]
          },
          "metadata": {},
          "execution_count": 18
        }
      ]
    },
    {
      "cell_type": "code",
      "source": [
        "from sklearn.feature_extraction.text import TfidfVectorizer\n",
        "\n",
        "# Create a TfidfVectorizer object with desired parameters\n",
        "tfidf = TfidfVectorizer(stop_words='english', max_features=5000)\n",
        "\n",
        "# Fit and transform the text data to create TF-IDF vectors for each document\n",
        "tfidf_vectors = tfidf.fit_transform(df_english['text'])\n",
        "\n",
        "# Convert the sparse matrix to a dense matrix and store it in a dataframe\n",
        "tfidf_df = pd.DataFrame(tfidf_vectors.todense(), columns=tfidf.get_feature_names_out())\n",
        "\n",
        "# Add the id column from the original dataframe to the TF-IDF dataframe\n",
        "tfidf_df['id'] = df_english['id']\n",
        "\n",
        "# Set the id column as the index of the dataframe\n",
        "# tfidf_df.set_index('id', inplace=True)\n",
        "\n",
        "# Display the TF-IDF dataframe\n",
        "print(tfidf_df)\n"
      ],
      "metadata": {
        "colab": {
          "base_uri": "https://localhost:8080/"
        },
        "id": "cqxssAv6DE_Z",
        "outputId": "2846dfba-084e-403b-b9ba-0fb27d5b34c4"
      },
      "execution_count": 77,
      "outputs": [
        {
          "output_type": "stream",
          "name": "stdout",
          "text": [
            "           000        10  100        11        12   13   14   15   16   17  \\\n",
            "0      0.00000  0.000000  0.0  0.000000  0.000000  0.0  0.0  0.0  0.0  0.0   \n",
            "1      0.00000  0.000000  0.0  0.107995  0.252727  0.0  0.0  0.0  0.0  0.0   \n",
            "2      0.00000  0.000000  0.0  0.000000  0.000000  0.0  0.0  0.0  0.0  0.0   \n",
            "3      0.03548  0.019109  0.0  0.000000  0.000000  0.0  0.0  0.0  0.0  0.0   \n",
            "4      0.00000  0.000000  0.0  0.000000  0.000000  0.0  0.0  0.0  0.0  0.0   \n",
            "...        ...       ...  ...       ...       ...  ...  ...  ...  ...  ...   \n",
            "42298  0.00000  0.000000  0.0  0.000000  0.000000  0.0  0.0  0.0  0.0  0.0   \n",
            "42299  0.00000  0.000000  0.0  0.000000  0.000000  0.0  0.0  0.0  0.0  0.0   \n",
            "42300  0.00000  0.000000  0.0  0.000000  0.000000  0.0  0.0  0.0  0.0  0.0   \n",
            "42301  0.00000  0.080820  0.0  0.000000  0.000000  0.0  0.0  0.0  0.0  0.0   \n",
            "42302  0.00000  0.000000  0.0  0.000000  0.000000  0.0  0.0  0.0  0.0  0.0   \n",
            "\n",
            "       ...   yu  zach  zack  zero  zoe  zombie  zombies  zone  zoo        id  \n",
            "0      ...  0.0   0.0   0.0   0.0  0.0     0.0      0.0   0.0  0.0  23890098  \n",
            "1      ...  0.0   0.0   0.0   0.0  0.0     0.0      0.0   0.0  0.0  31186339  \n",
            "2      ...  0.0   0.0   0.0   0.0  0.0     0.0      0.0   0.0  0.0  20663735  \n",
            "3      ...  0.0   0.0   0.0   0.0  0.0     0.0      0.0   0.0  0.0   2231378  \n",
            "4      ...  0.0   0.0   0.0   0.0  0.0     0.0      0.0   0.0  0.0    595909  \n",
            "...    ...  ...   ...   ...   ...  ...     ...      ...   ...  ...       ...  \n",
            "42298  ...  0.0   0.0   0.0   0.0  0.0     0.0      0.0   0.0  0.0  34808485  \n",
            "42299  ...  0.0   0.0   0.0   0.0  0.0     0.0      0.0   0.0  0.0   1096473  \n",
            "42300  ...  0.0   0.0   0.0   0.0  0.0     0.0      0.0   0.0  0.0  35102018  \n",
            "42301  ...  0.0   0.0   0.0   0.0  0.0     0.0      0.0   0.0  0.0   8628195  \n",
            "42302  ...  0.0   0.0   0.0   0.0  0.0     0.0      0.0   0.0  0.0   6040782  \n",
            "\n",
            "[42303 rows x 5001 columns]\n"
          ]
        }
      ]
    },
    {
      "cell_type": "code",
      "source": [
        "import numpy as np\n",
        "import matplotlib.pyplot as plt\n",
        "from sklearn.metrics.pairwise import cosine_similarity\n",
        "\n",
        "def search(query_vector):\n",
        "\n",
        "    # Compute cosine similarity between the query vector and all document vectors\n",
        "    cosine_similarities = cosine_similarity(query_vector, tfidf_vectors).flatten()\n",
        "\n",
        "    # Sort the document indices by their cosine similarities with the query vector\n",
        "    document_indices = cosine_similarities.argsort()[::-1]\n",
        "\n",
        "    # Retrieve the top 10 most relevant documents\n",
        "    top_documents = df_english.iloc[document_indices[:10]]\n",
        "\n",
        "    # Ask the user to label the relevance of each document\n",
        "    relevance_labels = []\n",
        "    for index, document in top_documents.iterrows():\n",
        "        print(f'\\nDocument {index}: {document[\"text\"]}')\n",
        "        relevance = input('Is this document relevant? (y/n) ')\n",
        "        relevance_labels.append(relevance)\n",
        "\n",
        "    # Save the relevance labels to a file or database\n",
        "    # ...\n",
        "\n",
        "    # Return the list of relevant documents\n",
        "    relevant_documents = np.array(top_documents)[np.where(np.array(relevance_labels)=='y')]\n",
        "    irrelevant_documents = np.array(top_documents)[np.where(np.array(relevance_labels)=='n')]\n",
        "    return query_vector, relevant_documents, irrelevant_documents"
      ],
      "metadata": {
        "id": "UbRwQnKaHeiB"
      },
      "execution_count": 121,
      "outputs": []
    },
    {
      "cell_type": "code",
      "source": [
        "def rocchio_feedback(query_vector, relevant_docs, irrelevant_docs, alpha=1, beta=0.75, gamma=0.15, num_iterations=5):\n",
        "    \"\"\"\n",
        "    Update the query vector using the Rocchio algorithm with user feedback.\n",
        "    \"\"\"\n",
        "    relevant_centroids = list(map(lambda e: tfidf.transform([e[1]]), relevant_docs))\n",
        "    irrelevant_centroids = list(map(lambda e: tfidf.transform([e[1]]), irrelevant_docs))\n",
        "\n",
        "    # Initialize the updated query vector as the original query vector.\n",
        "    updated_query_vector = query_vector.copy()\n",
        "    \n",
        "    # Update the query vector with relevant centroids.\n",
        "    for centroid in relevant_centroids:\n",
        "        updated_query_vector += alpha * centroid\n",
        "    \n",
        "    # Update the query vector with irrelevant centroids.\n",
        "    for centroid in irrelevant_centroids:\n",
        "        updated_query_vector -= beta * centroid\n",
        "        \n",
        "    # print(updated_query_vector)\n",
        "    # Normalize the updated query vector.\n",
        "    # updated_query_vector /= np.linalg.norm(updated_query_vector)\n",
        "    \n",
        "    # Update the query vector for the next iteration.\n",
        "    query_vector = gamma * query_vector + (1 - gamma) * updated_query_vector\n",
        "    \n",
        "    return query_vector\n"
      ],
      "metadata": {
        "id": "7Q2tJaHNL7Dv"
      },
      "execution_count": 122,
      "outputs": []
    },
    {
      "cell_type": "code",
      "source": [
        "query = input(\"Enter Query: \")\n",
        "\n",
        "# Transform the user's query into a TF-IDF vector\n",
        "query_vector = tfidf.transform([query])\n",
        "\n",
        "# execution of algorithm for 5 iterations\n",
        "for i in range(5):\n",
        "  print('-'*15)\n",
        "  print(\"\\nIteration\", i)\n",
        "  print('-'*15)\n",
        "\n",
        "  # finding similarities and asking user for relevancy feedback\n",
        "  args = search(query_vector)\n",
        "\n",
        "  # optimizing query vector\n",
        "  query_vector = rocchio_feedback(*args)\n",
        "\n",
        "\n",
        "\n",
        "relevant_docs = args[1]\n",
        "irrelevant_docs = args[2]\n",
        "\n",
        "print(\"\\n\\nFinal Relevant Documents:\")\n",
        "print(relevant_docs)"
      ],
      "metadata": {
        "colab": {
          "base_uri": "https://localhost:8080/"
        },
        "id": "XPQUQZFhHf4J",
        "outputId": "6023da70-62c2-43d2-e80c-5d2c7447c1e0"
      },
      "execution_count": 124,
      "outputs": [
        {
          "output_type": "stream",
          "name": "stdout",
          "text": [
            "Enter Query: is there any taxi driver?\n",
            "---------------\n",
            "\n",
            "Iteration 0\n",
            "---------------\n",
            "\n",
            "Document 36850: The story revolves round the emotions of two brothers, one a taxi driver and the other is a high official in a government office. Trouble breaks when the brother with high social status marries a lady who would not agree to reside together with a taxi driver.\n",
            "Is this document relevant? (y/n) y\n",
            "\n",
            "Document 1201: After traffic police stop the bridegroom and his friends who are slightly drunk, the bridegroom takes a taxi and leaves his friends behind. The taxi driver gets dizzy and crashes the car. The bridegroom takes him to hospital. When he gets out of the hospital, a couple begs him to take them in \"his taxi\" to some place. Everyone thinks he is a taxi driver and he cannot refuse taking people to places. Towards the end of the film he meets an older woman who is haggling with a worker who is asking for an exorbitant amount of money to cover a wall with plaster of Paris. The bridegroom decides to do the job instead of the worker. After mixing water with plaster of Paris he sits to have a rest and starts to daydream. The mixture quickly hardens and he is stuck in it. A forklift truck takes him with his feet in the tray to the wedding place.\n",
            "Is this document relevant? (y/n) n\n",
            "\n",
            "Document 16224: The film explores the past and present lives of characters during a night's taxi ride. The characters include Masayo a divorced woman who works as a taxi driver, and Sakaki, a diabetic passenger who wants to go to an isolated beach.<ref namehttp://www2u.biglobe.ne.jp/~p-g/data/2004/040910/taxi.htm|title2010-06-21|languageP.G. Web Site}}\n",
            "Is this document relevant? (y/n) y\n",
            "\n",
            "Document 31224:  The film begins with Piotr Balicki , a young and idealistic lawyer who is about to take the bar exam. Jacek Łazar  is a 21 year-old man, coming from the countryside. He wanders the streets of Warsaw and has apparently nothing to do. He keeps asking about a taxi stand but the first one he finds is very busy. Waldemar Rekowski, a middle-aged taxicab driver , overweight, cruel-looking, lives in the Dekalog apartment block. He enjoys the freedom of his profession, with a wage and the power to ignore people whom he does not want to take in his taxi, as well as ogling young ladies. Jacek plays stupid, pointless and ruthless jokes on people like throwing a stranger into the urinals in a public toilet, dropping stones from a bridge onto passing vehicles, or shooing pigeons which an old woman wants to feed. He has a photograph of a little girl blown up and then goes to a cafe. The taxi driver wanders around the city looking for a client. Jacek keeps a length of rope in his bag and a stick; he wraps a bit of rope around his hand but stops when he spots two girls playing at the other side of the window at the cafe and he engages in a game with them. He then goes to a taxi stop and jumps into a taxi, after declining to cede his taxi to other people who seem much busier. The taxi driver happens to be Waldemar Rekowski. Jacek asks to be driven to a part of the city near the countryside. There, Jacek kills the driver using the rope in a brutal and extended scene in which he has to finish his killing using a big stone. He then takes the taxi to the river and dumps the body. Jacek turns on the radio and a children's song can be heard, which clearly upsets him. Jacek is imprisoned and talking to his lawyer Piotr, for whom this is the first case after finishing his studies. There is neither much evidence nor motive for this murder. Piotr has no chance defending his young client, and the outcome is a foregone conclusion. Nonetheless, Piotr is told by the judge that his arguments and legal strategy were outstanding. Jacek gets the death penalty by hanging. Before the execution Jacek asks to speak one last time to Piotr  and reveals that his baby sister died five years ago in an accident caused by a truck that his friend was driving under the influence. He never recovered from this and asks to be buried next to her and the blown up photo given to his mother. The execution time has come, Jacek is held by several policemen on his to the execution, chained by hands and legs. The judgment itself is performed with no less coldness than the act committed by Jacek. The final scene finds Piotr sitting in his car in the countryside, desperately repeating, \"I abhor it, I abhor it.\" Film review on www.film.u.net.com Story review on www.ruthlessreviews.com Synopsis on www.facets.orgSynopsis on www.rottentomatoes.com\n",
            "Is this document relevant? (y/n) n\n",
            "\n",
            "Document 36358: Characters {{details}} Several of the cast members are voice actors and appeared in Urusei Yatsura, which Oshii worked on as chief director and head writer. *Kōichi Todome  *Washio Midori  *Sōichirō Toribe  *Bunmei Muroto  *Young Lady  *Moongaze Ginji  *Hamburger Tetsu  *Beefbowl Ushigoro  *Medium Hot Sabu  *Baked Bean Pastry Amataro  *Crepe Mami  *Middle-aged man in billiards, taxi driver's voice  *Taxi driver  *Oriental Hotel receptionist  *Soba Udon cook  *Airport announcer  *Umibōzu\n",
            "Is this document relevant? (y/n) n\n",
            "\n",
            "Document 2248: R. Parthiban plays a die hard fan of Rambha and a self-interest governed taxi driver whose name is never revealed throughout the movie. Meena plays Mahalakshimi, the daughter of a \"zamindar\" who has lost all his money due to financial troubles; his death leaves Mahalakshimi with a lot of debts . Parthipan is the taxi driver that drives Meena's dead father's corpse back to her hometown. There, the people that Mahalakshimi is now indebted to by Anand Raj who torture Mahalakshimiwith cruel words for being unable to pay the debt. Later Parthiban will be willing to give his taxi in replace to Meena's debt to save her at the point of time. But the twist in the movie is that no matter what Parthiban will still irritate Meena to get back his taxi as soon as possible. In the later part Meena will fall in love with Parthiban for his continuous help and support towards Meena. At that time Parthiban's dream girl Actress Rambha will come for shooting in that palace, this made Meena very angry and jealous as all his attention and everything has been diverted to Rambha again. When the end of the shooting Rambha will try to talk to the both of them and made them realise the love between Parthiban and Meena. But Meena never see any sign of Parthiban loving her thus she accept to marry the villain  son to get back Parthiban taxi and settle her debt. Eventually Parthiban will realise his love for Meena and try to stop the wedding as the groom is also a bad guy who cheated Manorama's daughter. Finally the ending was a happy ending with Meena getting back all her money and property leading a happy life with Parthiban.\n",
            "Is this document relevant? (y/n) n\n",
            "\n",
            "Document 33313: Bimal is a taxi-driver in a small provincial town. He lives alone, his taxi  is his only companion and, although very battered, it is the apple of Bimal's eye. The film shows episodes from his life in the industrial wasteland, delivering people from one place to another.<ref nameOne Hundred Indian Feature Films: An Annotated Filmography|lastShampa|authorlinkAnil Srivastava |yearTaylor & Francis |isbn22 |urlzX4GY37rG8kC&pg%22Kali+Banerjee%22&cdonepage&q }} Georges Sadoul, the well-known film critic shared his experience of watching the film in this way. He said, \"What does 'Ajantrik' mean? I don't know and I believe no one in Venice Film Festival knew...I can't tell the whole story of the film...there was no subtitle for the film. But I saw the film spellbound till the very end\". According to the noted Bengali poet and German scholar Alokranjan Dasgupta, \"The merciless conflict of ethereal nature and mechanised civilization,through the love of taxi driver Bimal and his pathetic vehicle Jagaddal seems to be a unique gift of...modernism.\"{{Citation needed}}\n",
            "Is this document relevant? (y/n) y\n",
            "\n",
            "Document 0: Shlykov, a hard-working taxi driver and Lyosha, a saxophonist, develop a bizarre love-hate relationship, and despite their prejudices, realize they aren't so different after all.\n",
            "Is this document relevant? (y/n) y\n",
            "\n",
            "Document 29719: Venu ([[Mukesh  is an orphan who works as a taxi driver. He was mistaken by the police for{{clarify}} kidnapping of an NRI girl . How Bala proves that he is innocent is the rest of the plot.\n",
            "Is this document relevant? (y/n) n\n",
            "\n",
            "Document 13503: Raj Karan Yadav  is a scrappy taxi driver, who somehow scraps a living in the big metropolis of Bombay , driving taxi everyday. He lives in one room tenement with his wife  in Dharavi, one of world’s largest slums, where the film is set. The film follows his fortunes; as he tries to breakout from the clutches of poverty, devising plans and investing all his money in a dubious schemes which eventually blow out on him, coming under the eye of unscrupulous politician and local goons, yet his dreams continue…\n",
            "Is this document relevant? (y/n) y\n",
            "---------------\n",
            "\n",
            "Iteration 1\n",
            "---------------\n",
            "\n",
            "Document 33313: Bimal is a taxi-driver in a small provincial town. He lives alone, his taxi  is his only companion and, although very battered, it is the apple of Bimal's eye. The film shows episodes from his life in the industrial wasteland, delivering people from one place to another.<ref nameOne Hundred Indian Feature Films: An Annotated Filmography|lastShampa|authorlinkAnil Srivastava |yearTaylor & Francis |isbn22 |urlzX4GY37rG8kC&pg%22Kali+Banerjee%22&cdonepage&q }} Georges Sadoul, the well-known film critic shared his experience of watching the film in this way. He said, \"What does 'Ajantrik' mean? I don't know and I believe no one in Venice Film Festival knew...I can't tell the whole story of the film...there was no subtitle for the film. But I saw the film spellbound till the very end\". According to the noted Bengali poet and German scholar Alokranjan Dasgupta, \"The merciless conflict of ethereal nature and mechanised civilization,through the love of taxi driver Bimal and his pathetic vehicle Jagaddal seems to be a unique gift of...modernism.\"{{Citation needed}}\n",
            "Is this document relevant? (y/n) y\n",
            "\n",
            "Document 36850: The story revolves round the emotions of two brothers, one a taxi driver and the other is a high official in a government office. Trouble breaks when the brother with high social status marries a lady who would not agree to reside together with a taxi driver.\n",
            "Is this document relevant? (y/n) y\n",
            "\n",
            "Document 16224: The film explores the past and present lives of characters during a night's taxi ride. The characters include Masayo a divorced woman who works as a taxi driver, and Sakaki, a diabetic passenger who wants to go to an isolated beach.<ref namehttp://www2u.biglobe.ne.jp/~p-g/data/2004/040910/taxi.htm|title2010-06-21|languageP.G. Web Site}}\n",
            "Is this document relevant? (y/n) n\n",
            "\n",
            "Document 13503: Raj Karan Yadav  is a scrappy taxi driver, who somehow scraps a living in the big metropolis of Bombay , driving taxi everyday. He lives in one room tenement with his wife  in Dharavi, one of world’s largest slums, where the film is set. The film follows his fortunes; as he tries to breakout from the clutches of poverty, devising plans and investing all his money in a dubious schemes which eventually blow out on him, coming under the eye of unscrupulous politician and local goons, yet his dreams continue…\n",
            "Is this document relevant? (y/n) y\n",
            "\n",
            "Document 0: Shlykov, a hard-working taxi driver and Lyosha, a saxophonist, develop a bizarre love-hate relationship, and despite their prejudices, realize they aren't so different after all.\n",
            "Is this document relevant? (y/n) y\n",
            "\n",
            "Document 26912: The gang are running their own taxi service, and come across Ernie and Farina delivering laundry to J. William McAllister, the wealthiest man in town. His doctor and his wife have both convinced him that he's sick, but when the kids visit him, they convince him otherwise. They all drive off in the taxi to Emerald Beach and have the time of their lives.\n",
            "Is this document relevant? (y/n) y\n",
            "\n",
            "Document 14001: The film is based on a real event in 1994, in which two 14-year-olds—Arbel Aloni and Moshe \"Moshiko\" Ben-Ivgi—murdered a taxi driver . In the film, their names have been changed to Ido Ben Ze'ev and Rafi, respectively. Ido comes from a wealthy family and acts as leader, while Rafi lives with his single mother and follows Ido. The children start committing crimes such as vandalism and theft, with the knowledge of Ofer Reinitz, a police officer, and the school councilor, Naomi. They work together to put the children in juvenile jail, although Ido's father Gidi, who is a prominent lawyer and personal friend of Ofer's from the army, does not believe the accusations against his son and stops the children from being persecuted on several occasions. After they murder a taxi driver for thrills with an old revolver, both Ido and Rafi are arrested.\n",
            "Is this document relevant? (y/n) n\n",
            "\n",
            "Document 8903: A nostalgic journey through 1950s Bombay with its quiet, peaceful and scenic background, electric trams, and a unique taxi driver, Mangal, who is called \"Hero\" by his friends. A driver who drives a cab by day, then drinks at night, listens to the seductive club dancer Sylvie, and then goes into a drunken stupor - and wakes up with a hangover. One day, while assisting another taxi driver, Mangal comes to the assistance of a damsel in distress Mala, who is being molested by two thugs. Mangal gallantly rescues her, and attempts to take her to her destination, but to no avail, as the person she is looking for has moved. The next day, Mangal and the young woman, Mala, again attempt to seek Ratanlal, a music director, but the entire day is spent in vain. Mala lives in Mangal's tiny apartment and both become attracted to each other. When Mala finds out about Sylvie, she leaves him. He goes in her search, but finds that she has become a famous singer with the help of her music director friend. Will Mangal ever get a chance to tell about his love for Mala? What will Sylvie's reaction be?\n",
            "Is this document relevant? (y/n) n\n",
            "\n",
            "Document 13359: The plot of the film revolves around Parvez , a Pakistani-born taxi driver and a tolerant, secular Muslim. His life takes an unexpected dark turn when his son Farid converts to fundamentalist Islam, leading to a family breakdown and social conflict. According to Rachel Donadio, a New York Times writer and editor, the film's theme is encapsulated in a pivotal scene: One of the most revealing insights into Britain’s recent social history comes early in “My Son the Fanatic,” Hanif Kureishi’s tender and darkly prescient 1997 film. It’s morning in an unnamed city in northern England, and Parvez, a secular Pakistani immigrant taxi driver brilliantly portrayed by Om Puri, watches Farid, his increasingly devout college-age son, sell his electric guitar. “Where is that going?” Parvez asks Farid as the buyer drives off. “You used to love making a terrible noise with these instruments!” Farid, played by Akbar Kurtha, looks at his father with irritation. “You always said there were more important things than ‘Stairway to Heaven,’ ” he says impatiently in his thick northern English accent. “You couldn’t have been more right.”<ref name2&orefbooks&pagewantedslogin NYT Profile]\". Retrieved on August24, 2008.\n",
            "Is this document relevant? (y/n) y\n",
            "\n",
            "Document 30490: Taxi driver Hartmut Mackowiak  is a seasoned man who has grown fond of firm habits and attitudes as it is not unusual for a man of his age. He shows no other ambitions than to do his job properly and to speak his mind. Mackowiak is no family man because his wife Christa  abandoned him and now he lives alone. One day a Turkish business woman becomes his passenger when she visits her mother in Nuremberg. She has her six-year-old daughter Hayat  with her because the child is supposed to get to know her grandmother  who lives in Germany. Mackowiak makes an impression on Hayat who is soon after left in grandmother's care while Hayat's mother goes abroad. Unfortunately grandmother is no longer up to the task of caring for a little child. Hayat feels that she is on her own when her grandmother suffers a stroke. Wondering to whom she could turn, the grumpy taxi driver comes to her mind. Mackowiak is downright flabbergasted when he realises that she seems to consider his taxi her refuge and that she's thinking \"Nazi\" was his name because she overheard her mother calling him that. However, he then also realises little by little he is neither too old to make new friends nor unable to learn to look at his world from a hitherto unknown point of view. Thus he even finds a new approach to his wife.\n",
            "Is this document relevant? (y/n) n\n",
            "---------------\n",
            "\n",
            "Iteration 2\n",
            "---------------\n",
            "\n",
            "Document 33313: Bimal is a taxi-driver in a small provincial town. He lives alone, his taxi  is his only companion and, although very battered, it is the apple of Bimal's eye. The film shows episodes from his life in the industrial wasteland, delivering people from one place to another.<ref nameOne Hundred Indian Feature Films: An Annotated Filmography|lastShampa|authorlinkAnil Srivastava |yearTaylor & Francis |isbn22 |urlzX4GY37rG8kC&pg%22Kali+Banerjee%22&cdonepage&q }} Georges Sadoul, the well-known film critic shared his experience of watching the film in this way. He said, \"What does 'Ajantrik' mean? I don't know and I believe no one in Venice Film Festival knew...I can't tell the whole story of the film...there was no subtitle for the film. But I saw the film spellbound till the very end\". According to the noted Bengali poet and German scholar Alokranjan Dasgupta, \"The merciless conflict of ethereal nature and mechanised civilization,through the love of taxi driver Bimal and his pathetic vehicle Jagaddal seems to be a unique gift of...modernism.\"{{Citation needed}}\n",
            "Is this document relevant? (y/n) y\n",
            "\n",
            "Document 36850: The story revolves round the emotions of two brothers, one a taxi driver and the other is a high official in a government office. Trouble breaks when the brother with high social status marries a lady who would not agree to reside together with a taxi driver.\n",
            "Is this document relevant? (y/n) y\n",
            "\n",
            "Document 13503: Raj Karan Yadav  is a scrappy taxi driver, who somehow scraps a living in the big metropolis of Bombay , driving taxi everyday. He lives in one room tenement with his wife  in Dharavi, one of world’s largest slums, where the film is set. The film follows his fortunes; as he tries to breakout from the clutches of poverty, devising plans and investing all his money in a dubious schemes which eventually blow out on him, coming under the eye of unscrupulous politician and local goons, yet his dreams continue…\n",
            "Is this document relevant? (y/n) y\n",
            "\n",
            "Document 0: Shlykov, a hard-working taxi driver and Lyosha, a saxophonist, develop a bizarre love-hate relationship, and despite their prejudices, realize they aren't so different after all.\n",
            "Is this document relevant? (y/n) y\n",
            "\n",
            "Document 26912: The gang are running their own taxi service, and come across Ernie and Farina delivering laundry to J. William McAllister, the wealthiest man in town. His doctor and his wife have both convinced him that he's sick, but when the kids visit him, they convince him otherwise. They all drive off in the taxi to Emerald Beach and have the time of their lives.\n",
            "Is this document relevant? (y/n) \n",
            "\n",
            "Document 13359: The plot of the film revolves around Parvez , a Pakistani-born taxi driver and a tolerant, secular Muslim. His life takes an unexpected dark turn when his son Farid converts to fundamentalist Islam, leading to a family breakdown and social conflict. According to Rachel Donadio, a New York Times writer and editor, the film's theme is encapsulated in a pivotal scene: One of the most revealing insights into Britain’s recent social history comes early in “My Son the Fanatic,” Hanif Kureishi’s tender and darkly prescient 1997 film. It’s morning in an unnamed city in northern England, and Parvez, a secular Pakistani immigrant taxi driver brilliantly portrayed by Om Puri, watches Farid, his increasingly devout college-age son, sell his electric guitar. “Where is that going?” Parvez asks Farid as the buyer drives off. “You used to love making a terrible noise with these instruments!” Farid, played by Akbar Kurtha, looks at his father with irritation. “You always said there were more important things than ‘Stairway to Heaven,’ ” he says impatiently in his thick northern English accent. “You couldn’t have been more right.”<ref name2&orefbooks&pagewantedslogin NYT Profile]\". Retrieved on August24, 2008.\n",
            "Is this document relevant? (y/n) n\n",
            "\n",
            "Document 16224: The film explores the past and present lives of characters during a night's taxi ride. The characters include Masayo a divorced woman who works as a taxi driver, and Sakaki, a diabetic passenger who wants to go to an isolated beach.<ref namehttp://www2u.biglobe.ne.jp/~p-g/data/2004/040910/taxi.htm|title2010-06-21|languageP.G. Web Site}}\n",
            "Is this document relevant? (y/n) n\n",
            "\n",
            "Document 1201: After traffic police stop the bridegroom and his friends who are slightly drunk, the bridegroom takes a taxi and leaves his friends behind. The taxi driver gets dizzy and crashes the car. The bridegroom takes him to hospital. When he gets out of the hospital, a couple begs him to take them in \"his taxi\" to some place. Everyone thinks he is a taxi driver and he cannot refuse taking people to places. Towards the end of the film he meets an older woman who is haggling with a worker who is asking for an exorbitant amount of money to cover a wall with plaster of Paris. The bridegroom decides to do the job instead of the worker. After mixing water with plaster of Paris he sits to have a rest and starts to daydream. The mixture quickly hardens and he is stuck in it. A forklift truck takes him with his feet in the tray to the wedding place.\n",
            "Is this document relevant? (y/n) y\n",
            "\n",
            "Document 11443: After Hambone's Uncle Nemo gets in a car accident, the kids decide to take over his taxi cab service. After accidentally wrecking Nemo's taxi, the kids decide to raise money by creating medicine, and putting on a mecidine show.\n",
            "Is this document relevant? (y/n) n\n",
            "\n",
            "Document 13990: The story follows one serial killer who uses the help of innocent taxi drivers to murder his targets. When The Central Bureau of Investigation , India, has been made aware of a killer cab-driver in Malaysia who killed several people in a matter of hours, and then crashed his taxi and killed himself. The same thing happened again, this time in Hong Kong, several people were killed by another cab-driver, who also ended up being killed. Now, this time in Dubai, taxi driver Nikhil Joshi . Nikhil is an Indian living in Dubai for a good life, and is madly in love with a cabaret dancer named Ria . He is willing to do anything for Ria, and so is she. However, life has other plans for him when one night, a suave businessman named Vikram , hails his cab. Nikhil discovers that this pleasant passenger has an agenda of his own and a rather sinister one at that. Vikram holds Nikhil hostage in a bizarre plot to bump off various people who would testify against the dreaded don Jabbar ([[Zakir Hussain , who is at risk of being deported to India to face charges against him. As Nikhil helplessly becomes witness to one killing after another, he finds his life and dreams crumbling around him. Faced with the prospect of losing everything he has been working towards, he finally takes control of the steering wheel of his life. He stops dreaming and starts acting, as he begins to pit his wits against the assassin. Killing one after another, Nikhil seems to be the prime suspect, that's why Vikram plans to kill him in his taxi and flee, however Nikhil fights back, and therefore Vikram escapes and kidnaps his girlfriend Ria. Only way Ria could survive is if Nikhil would take the blame of the murders Vikram has committed. Will Nikhil blame himself for something he didn't do, or will he stand his ground and fight Vikram the killer himself?\n",
            "Is this document relevant? (y/n) n\n",
            "---------------\n",
            "\n",
            "Iteration 3\n",
            "---------------\n",
            "\n",
            "Document 33313: Bimal is a taxi-driver in a small provincial town. He lives alone, his taxi  is his only companion and, although very battered, it is the apple of Bimal's eye. The film shows episodes from his life in the industrial wasteland, delivering people from one place to another.<ref nameOne Hundred Indian Feature Films: An Annotated Filmography|lastShampa|authorlinkAnil Srivastava |yearTaylor & Francis |isbn22 |urlzX4GY37rG8kC&pg%22Kali+Banerjee%22&cdonepage&q }} Georges Sadoul, the well-known film critic shared his experience of watching the film in this way. He said, \"What does 'Ajantrik' mean? I don't know and I believe no one in Venice Film Festival knew...I can't tell the whole story of the film...there was no subtitle for the film. But I saw the film spellbound till the very end\". According to the noted Bengali poet and German scholar Alokranjan Dasgupta, \"The merciless conflict of ethereal nature and mechanised civilization,through the love of taxi driver Bimal and his pathetic vehicle Jagaddal seems to be a unique gift of...modernism.\"{{Citation needed}}\n",
            "Is this document relevant? (y/n) y\n",
            "\n",
            "Document 36850: The story revolves round the emotions of two brothers, one a taxi driver and the other is a high official in a government office. Trouble breaks when the brother with high social status marries a lady who would not agree to reside together with a taxi driver.\n",
            "Is this document relevant? (y/n) y\n",
            "\n",
            "Document 13503: Raj Karan Yadav  is a scrappy taxi driver, who somehow scraps a living in the big metropolis of Bombay , driving taxi everyday. He lives in one room tenement with his wife  in Dharavi, one of world’s largest slums, where the film is set. The film follows his fortunes; as he tries to breakout from the clutches of poverty, devising plans and investing all his money in a dubious schemes which eventually blow out on him, coming under the eye of unscrupulous politician and local goons, yet his dreams continue…\n",
            "Is this document relevant? (y/n) y\n",
            "\n",
            "Document 0: Shlykov, a hard-working taxi driver and Lyosha, a saxophonist, develop a bizarre love-hate relationship, and despite their prejudices, realize they aren't so different after all.\n",
            "Is this document relevant? (y/n) y\n",
            "\n",
            "Document 1201: After traffic police stop the bridegroom and his friends who are slightly drunk, the bridegroom takes a taxi and leaves his friends behind. The taxi driver gets dizzy and crashes the car. The bridegroom takes him to hospital. When he gets out of the hospital, a couple begs him to take them in \"his taxi\" to some place. Everyone thinks he is a taxi driver and he cannot refuse taking people to places. Towards the end of the film he meets an older woman who is haggling with a worker who is asking for an exorbitant amount of money to cover a wall with plaster of Paris. The bridegroom decides to do the job instead of the worker. After mixing water with plaster of Paris he sits to have a rest and starts to daydream. The mixture quickly hardens and he is stuck in it. A forklift truck takes him with his feet in the tray to the wedding place.\n",
            "Is this document relevant? (y/n) y\n",
            "\n",
            "Document 26912: The gang are running their own taxi service, and come across Ernie and Farina delivering laundry to J. William McAllister, the wealthiest man in town. His doctor and his wife have both convinced him that he's sick, but when the kids visit him, they convince him otherwise. They all drive off in the taxi to Emerald Beach and have the time of their lives.\n",
            "Is this document relevant? (y/n) \n",
            "\n",
            "Document 16224: The film explores the past and present lives of characters during a night's taxi ride. The characters include Masayo a divorced woman who works as a taxi driver, and Sakaki, a diabetic passenger who wants to go to an isolated beach.<ref namehttp://www2u.biglobe.ne.jp/~p-g/data/2004/040910/taxi.htm|title2010-06-21|languageP.G. Web Site}}\n",
            "Is this document relevant? (y/n) n\n",
            "\n",
            "Document 13359: The plot of the film revolves around Parvez , a Pakistani-born taxi driver and a tolerant, secular Muslim. His life takes an unexpected dark turn when his son Farid converts to fundamentalist Islam, leading to a family breakdown and social conflict. According to Rachel Donadio, a New York Times writer and editor, the film's theme is encapsulated in a pivotal scene: One of the most revealing insights into Britain’s recent social history comes early in “My Son the Fanatic,” Hanif Kureishi’s tender and darkly prescient 1997 film. It’s morning in an unnamed city in northern England, and Parvez, a secular Pakistani immigrant taxi driver brilliantly portrayed by Om Puri, watches Farid, his increasingly devout college-age son, sell his electric guitar. “Where is that going?” Parvez asks Farid as the buyer drives off. “You used to love making a terrible noise with these instruments!” Farid, played by Akbar Kurtha, looks at his father with irritation. “You always said there were more important things than ‘Stairway to Heaven,’ ” he says impatiently in his thick northern English accent. “You couldn’t have been more right.”<ref name2&orefbooks&pagewantedslogin NYT Profile]\". Retrieved on August24, 2008.\n",
            "Is this document relevant? (y/n) y\n",
            "\n",
            "Document 2248: R. Parthiban plays a die hard fan of Rambha and a self-interest governed taxi driver whose name is never revealed throughout the movie. Meena plays Mahalakshimi, the daughter of a \"zamindar\" who has lost all his money due to financial troubles; his death leaves Mahalakshimi with a lot of debts . Parthipan is the taxi driver that drives Meena's dead father's corpse back to her hometown. There, the people that Mahalakshimi is now indebted to by Anand Raj who torture Mahalakshimiwith cruel words for being unable to pay the debt. Later Parthiban will be willing to give his taxi in replace to Meena's debt to save her at the point of time. But the twist in the movie is that no matter what Parthiban will still irritate Meena to get back his taxi as soon as possible. In the later part Meena will fall in love with Parthiban for his continuous help and support towards Meena. At that time Parthiban's dream girl Actress Rambha will come for shooting in that palace, this made Meena very angry and jealous as all his attention and everything has been diverted to Rambha again. When the end of the shooting Rambha will try to talk to the both of them and made them realise the love between Parthiban and Meena. But Meena never see any sign of Parthiban loving her thus she accept to marry the villain  son to get back Parthiban taxi and settle her debt. Eventually Parthiban will realise his love for Meena and try to stop the wedding as the groom is also a bad guy who cheated Manorama's daughter. Finally the ending was a happy ending with Meena getting back all her money and property leading a happy life with Parthiban.\n",
            "Is this document relevant? (y/n) y\n",
            "\n",
            "Document 31224:  The film begins with Piotr Balicki , a young and idealistic lawyer who is about to take the bar exam. Jacek Łazar  is a 21 year-old man, coming from the countryside. He wanders the streets of Warsaw and has apparently nothing to do. He keeps asking about a taxi stand but the first one he finds is very busy. Waldemar Rekowski, a middle-aged taxicab driver , overweight, cruel-looking, lives in the Dekalog apartment block. He enjoys the freedom of his profession, with a wage and the power to ignore people whom he does not want to take in his taxi, as well as ogling young ladies. Jacek plays stupid, pointless and ruthless jokes on people like throwing a stranger into the urinals in a public toilet, dropping stones from a bridge onto passing vehicles, or shooing pigeons which an old woman wants to feed. He has a photograph of a little girl blown up and then goes to a cafe. The taxi driver wanders around the city looking for a client. Jacek keeps a length of rope in his bag and a stick; he wraps a bit of rope around his hand but stops when he spots two girls playing at the other side of the window at the cafe and he engages in a game with them. He then goes to a taxi stop and jumps into a taxi, after declining to cede his taxi to other people who seem much busier. The taxi driver happens to be Waldemar Rekowski. Jacek asks to be driven to a part of the city near the countryside. There, Jacek kills the driver using the rope in a brutal and extended scene in which he has to finish his killing using a big stone. He then takes the taxi to the river and dumps the body. Jacek turns on the radio and a children's song can be heard, which clearly upsets him. Jacek is imprisoned and talking to his lawyer Piotr, for whom this is the first case after finishing his studies. There is neither much evidence nor motive for this murder. Piotr has no chance defending his young client, and the outcome is a foregone conclusion. Nonetheless, Piotr is told by the judge that his arguments and legal strategy were outstanding. Jacek gets the death penalty by hanging. Before the execution Jacek asks to speak one last time to Piotr  and reveals that his baby sister died five years ago in an accident caused by a truck that his friend was driving under the influence. He never recovered from this and asks to be buried next to her and the blown up photo given to his mother. The execution time has come, Jacek is held by several policemen on his to the execution, chained by hands and legs. The judgment itself is performed with no less coldness than the act committed by Jacek. The final scene finds Piotr sitting in his car in the countryside, desperately repeating, \"I abhor it, I abhor it.\" Film review on www.film.u.net.com Story review on www.ruthlessreviews.com Synopsis on www.facets.orgSynopsis on www.rottentomatoes.com\n",
            "Is this document relevant? (y/n) n\n",
            "---------------\n",
            "\n",
            "Iteration 4\n",
            "---------------\n",
            "\n",
            "Document 33313: Bimal is a taxi-driver in a small provincial town. He lives alone, his taxi  is his only companion and, although very battered, it is the apple of Bimal's eye. The film shows episodes from his life in the industrial wasteland, delivering people from one place to another.<ref nameOne Hundred Indian Feature Films: An Annotated Filmography|lastShampa|authorlinkAnil Srivastava |yearTaylor & Francis |isbn22 |urlzX4GY37rG8kC&pg%22Kali+Banerjee%22&cdonepage&q }} Georges Sadoul, the well-known film critic shared his experience of watching the film in this way. He said, \"What does 'Ajantrik' mean? I don't know and I believe no one in Venice Film Festival knew...I can't tell the whole story of the film...there was no subtitle for the film. But I saw the film spellbound till the very end\". According to the noted Bengali poet and German scholar Alokranjan Dasgupta, \"The merciless conflict of ethereal nature and mechanised civilization,through the love of taxi driver Bimal and his pathetic vehicle Jagaddal seems to be a unique gift of...modernism.\"{{Citation needed}}\n",
            "Is this document relevant? (y/n) y\n",
            "\n",
            "Document 36850: The story revolves round the emotions of two brothers, one a taxi driver and the other is a high official in a government office. Trouble breaks when the brother with high social status marries a lady who would not agree to reside together with a taxi driver.\n",
            "Is this document relevant? (y/n) y\n",
            "\n",
            "Document 13503: Raj Karan Yadav  is a scrappy taxi driver, who somehow scraps a living in the big metropolis of Bombay , driving taxi everyday. He lives in one room tenement with his wife  in Dharavi, one of world’s largest slums, where the film is set. The film follows his fortunes; as he tries to breakout from the clutches of poverty, devising plans and investing all his money in a dubious schemes which eventually blow out on him, coming under the eye of unscrupulous politician and local goons, yet his dreams continue…\n",
            "Is this document relevant? (y/n) y\n",
            "\n",
            "Document 0: Shlykov, a hard-working taxi driver and Lyosha, a saxophonist, develop a bizarre love-hate relationship, and despite their prejudices, realize they aren't so different after all.\n",
            "Is this document relevant? (y/n) y\n",
            "\n",
            "Document 1201: After traffic police stop the bridegroom and his friends who are slightly drunk, the bridegroom takes a taxi and leaves his friends behind. The taxi driver gets dizzy and crashes the car. The bridegroom takes him to hospital. When he gets out of the hospital, a couple begs him to take them in \"his taxi\" to some place. Everyone thinks he is a taxi driver and he cannot refuse taking people to places. Towards the end of the film he meets an older woman who is haggling with a worker who is asking for an exorbitant amount of money to cover a wall with plaster of Paris. The bridegroom decides to do the job instead of the worker. After mixing water with plaster of Paris he sits to have a rest and starts to daydream. The mixture quickly hardens and he is stuck in it. A forklift truck takes him with his feet in the tray to the wedding place.\n",
            "Is this document relevant? (y/n) n\n",
            "\n",
            "Document 2248: R. Parthiban plays a die hard fan of Rambha and a self-interest governed taxi driver whose name is never revealed throughout the movie. Meena plays Mahalakshimi, the daughter of a \"zamindar\" who has lost all his money due to financial troubles; his death leaves Mahalakshimi with a lot of debts . Parthipan is the taxi driver that drives Meena's dead father's corpse back to her hometown. There, the people that Mahalakshimi is now indebted to by Anand Raj who torture Mahalakshimiwith cruel words for being unable to pay the debt. Later Parthiban will be willing to give his taxi in replace to Meena's debt to save her at the point of time. But the twist in the movie is that no matter what Parthiban will still irritate Meena to get back his taxi as soon as possible. In the later part Meena will fall in love with Parthiban for his continuous help and support towards Meena. At that time Parthiban's dream girl Actress Rambha will come for shooting in that palace, this made Meena very angry and jealous as all his attention and everything has been diverted to Rambha again. When the end of the shooting Rambha will try to talk to the both of them and made them realise the love between Parthiban and Meena. But Meena never see any sign of Parthiban loving her thus she accept to marry the villain  son to get back Parthiban taxi and settle her debt. Eventually Parthiban will realise his love for Meena and try to stop the wedding as the groom is also a bad guy who cheated Manorama's daughter. Finally the ending was a happy ending with Meena getting back all her money and property leading a happy life with Parthiban.\n",
            "Is this document relevant? (y/n) y\n",
            "\n",
            "Document 13359: The plot of the film revolves around Parvez , a Pakistani-born taxi driver and a tolerant, secular Muslim. His life takes an unexpected dark turn when his son Farid converts to fundamentalist Islam, leading to a family breakdown and social conflict. According to Rachel Donadio, a New York Times writer and editor, the film's theme is encapsulated in a pivotal scene: One of the most revealing insights into Britain’s recent social history comes early in “My Son the Fanatic,” Hanif Kureishi’s tender and darkly prescient 1997 film. It’s morning in an unnamed city in northern England, and Parvez, a secular Pakistani immigrant taxi driver brilliantly portrayed by Om Puri, watches Farid, his increasingly devout college-age son, sell his electric guitar. “Where is that going?” Parvez asks Farid as the buyer drives off. “You used to love making a terrible noise with these instruments!” Farid, played by Akbar Kurtha, looks at his father with irritation. “You always said there were more important things than ‘Stairway to Heaven,’ ” he says impatiently in his thick northern English accent. “You couldn’t have been more right.”<ref name2&orefbooks&pagewantedslogin NYT Profile]\". Retrieved on August24, 2008.\n",
            "Is this document relevant? (y/n) n\n",
            "\n",
            "Document 26912: The gang are running their own taxi service, and come across Ernie and Farina delivering laundry to J. William McAllister, the wealthiest man in town. His doctor and his wife have both convinced him that he's sick, but when the kids visit him, they convince him otherwise. They all drive off in the taxi to Emerald Beach and have the time of their lives.\n",
            "Is this document relevant? (y/n) y\n",
            "\n",
            "Document 16224: The film explores the past and present lives of characters during a night's taxi ride. The characters include Masayo a divorced woman who works as a taxi driver, and Sakaki, a diabetic passenger who wants to go to an isolated beach.<ref namehttp://www2u.biglobe.ne.jp/~p-g/data/2004/040910/taxi.htm|title2010-06-21|languageP.G. Web Site}}\n",
            "Is this document relevant? (y/n) y\n",
            "\n",
            "Document 36358: Characters {{details}} Several of the cast members are voice actors and appeared in Urusei Yatsura, which Oshii worked on as chief director and head writer. *Kōichi Todome  *Washio Midori  *Sōichirō Toribe  *Bunmei Muroto  *Young Lady  *Moongaze Ginji  *Hamburger Tetsu  *Beefbowl Ushigoro  *Medium Hot Sabu  *Baked Bean Pastry Amataro  *Crepe Mami  *Middle-aged man in billiards, taxi driver's voice  *Taxi driver  *Oriental Hotel receptionist  *Soba Udon cook  *Airport announcer  *Umibōzu\n",
            "Is this document relevant? (y/n) n\n",
            "\n",
            "\n",
            "Final Relevant Documents:\n",
            "[[13631613\n",
            "  'Bimal is a taxi-driver in a small provincial town. He lives alone, his taxi  is his only companion and, although very battered, it is the apple of Bimal\\'s eye. The film shows episodes from his life in the industrial wasteland, delivering people from one place to another.<ref nameOne Hundred Indian Feature Films: An Annotated Filmography|lastShampa|authorlinkAnil Srivastava |yearTaylor & Francis |isbn22 |urlzX4GY37rG8kC&pg%22Kali+Banerjee%22&cdonepage&q }} Georges Sadoul, the well-known film critic shared his experience of watching the film in this way. He said, \"What does \\'Ajantrik\\' mean? I don\\'t know and I believe no one in Venice Film Festival knew...I can\\'t tell the whole story of the film...there was no subtitle for the film. But I saw the film spellbound till the very end\". According to the noted Bengali poet and German scholar Alokranjan Dasgupta, \"The merciless conflict of ethereal nature and mechanised civilization,through the love of taxi driver Bimal and his pathetic vehicle Jagaddal seems to be a unique gift of...modernism.\"{{Citation needed}}']\n",
            " [21020059\n",
            "  'The story revolves round the emotions of two brothers, one a taxi driver and the other is a high official in a government office. Trouble breaks when the brother with high social status marries a lady who would not agree to reside together with a taxi driver.']\n",
            " [14312549\n",
            "  'Raj Karan Yadav  is a scrappy taxi driver, who somehow scraps a living in the big metropolis of Bombay , driving taxi everyday. He lives in one room tenement with his wife  in Dharavi, one of world’s largest slums, where the film is set. The film follows his fortunes; as he tries to breakout from the clutches of poverty, devising plans and investing all his money in a dubious schemes which eventually blow out on him, coming under the eye of unscrupulous politician and local goons, yet his dreams continue…']\n",
            " [23890098\n",
            "  \"Shlykov, a hard-working taxi driver and Lyosha, a saxophonist, develop a bizarre love-hate relationship, and despite their prejudices, realize they aren't so different after all.\"]\n",
            " [32038442\n",
            "  'R. Parthiban plays a die hard fan of Rambha and a self-interest governed taxi driver whose name is never revealed throughout the movie. Meena plays Mahalakshimi, the daughter of a \"zamindar\" who has lost all his money due to financial troubles; his death leaves Mahalakshimi with a lot of debts . Parthipan is the taxi driver that drives Meena\\'s dead father\\'s corpse back to her hometown. There, the people that Mahalakshimi is now indebted to by Anand Raj who torture Mahalakshimiwith cruel words for being unable to pay the debt. Later Parthiban will be willing to give his taxi in replace to Meena\\'s debt to save her at the point of time. But the twist in the movie is that no matter what Parthiban will still irritate Meena to get back his taxi as soon as possible. In the later part Meena will fall in love with Parthiban for his continuous help and support towards Meena. At that time Parthiban\\'s dream girl Actress Rambha will come for shooting in that palace, this made Meena very angry and jealous as all his attention and everything has been diverted to Rambha again. When the end of the shooting Rambha will try to talk to the both of them and made them realise the love between Parthiban and Meena. But Meena never see any sign of Parthiban loving her thus she accept to marry the villain  son to get back Parthiban taxi and settle her debt. Eventually Parthiban will realise his love for Meena and try to stop the wedding as the groom is also a bad guy who cheated Manorama\\'s daughter. Finally the ending was a happy ending with Meena getting back all her money and property leading a happy life with Parthiban.']\n",
            " [19299353\n",
            "  \"The gang are running their own taxi service, and come across Ernie and Farina delivering laundry to J. William McAllister, the wealthiest man in town. His doctor and his wife have both convinced him that he's sick, but when the kids visit him, they convince him otherwise. They all drive off in the taxi to Emerald Beach and have the time of their lives.\"]\n",
            " [27797260\n",
            "  \"The film explores the past and present lives of characters during a night's taxi ride. The characters include Masayo a divorced woman who works as a taxi driver, and Sakaki, a diabetic passenger who wants to go to an isolated beach.<ref namehttp://www2u.biglobe.ne.jp/~p-g/data/2004/040910/taxi.htm|title2010-06-21|languageP.G. Web Site}}\"]]\n"
          ]
        }
      ]
    },
    {
      "cell_type": "code",
      "source": [],
      "metadata": {
        "id": "UcdRj_qlk3u_"
      },
      "execution_count": null,
      "outputs": []
    }
  ]
}